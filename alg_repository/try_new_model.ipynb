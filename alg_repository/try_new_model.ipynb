{
 "cells": [
  {
   "cell_type": "code",
   "execution_count": 1,
   "metadata": {},
   "outputs": [
    {
     "name": "stdout",
     "output_type": "stream",
     "text": [
      "[\"<class 'aeon\", 'classification', 'convolution_based', '_arsenal', \"Arsenal'>\"]\n"
     ]
    }
   ],
   "source": [
    "from aeon.registry import all_estimators\n",
    "\n",
    "\n",
    "estimators_list = all_estimators(\n",
    "    filter_tags={\"capability:multivariate\": True},\n",
    "    estimator_types=\"classifier\",\n",
    "    as_dataframe=True,\n",
    ")\n",
    "\n",
    "print(str(estimators_list.estimator[0]).split(\".\"))\n",
    "\n",
    "\n"
   ]
  },
  {
   "cell_type": "code",
   "execution_count": 2,
   "metadata": {},
   "outputs": [
    {
     "name": "stdout",
     "output_type": "stream",
     "text": [
      "Error with CNNClassifier\n",
      "CNNClassifier requires python version to be <3.12, but system python version is 3.12.0 (tags/v3.12.0:0fb18b0, Oct  2 2023, 13:03:39) [MSC v.1935 64 bit (AMD64)].\n",
      "Error with EncoderClassifier\n",
      "EncoderClassifier requires python version to be <3.12, but system python version is 3.12.0 (tags/v3.12.0:0fb18b0, Oct  2 2023, 13:03:39) [MSC v.1935 64 bit (AMD64)].\n",
      "Error with FCNClassifier\n",
      "FCNClassifier requires python version to be <3.12, but system python version is 3.12.0 (tags/v3.12.0:0fb18b0, Oct  2 2023, 13:03:39) [MSC v.1935 64 bit (AMD64)].\n",
      "Error with MLPClassifier\n",
      "MLPClassifier requires python version to be <3.12, but system python version is 3.12.0 (tags/v3.12.0:0fb18b0, Oct  2 2023, 13:03:39) [MSC v.1935 64 bit (AMD64)].\n",
      "Error with ResNetClassifier\n",
      "ResNetClassifier requires python version to be <3.12, but system python version is 3.12.0 (tags/v3.12.0:0fb18b0, Oct  2 2023, 13:03:39) [MSC v.1935 64 bit (AMD64)].\n",
      "Error with SignatureClassifier\n",
      "SignatureClassifier requires python version to be <3.11, but system python version is 3.12.0 (tags/v3.12.0:0fb18b0, Oct  2 2023, 13:03:39) [MSC v.1935 64 bit (AMD64)].\n",
      "Error with TapNetClassifier\n",
      "TapNetClassifier requires python version to be <3.12, but system python version is 3.12.0 (tags/v3.12.0:0fb18b0, Oct  2 2023, 13:03:39) [MSC v.1935 64 bit (AMD64)].\n"
     ]
    }
   ],
   "source": [
    "import importlib\n",
    "from librosa import ex\n",
    "import numpy as np\n",
    "\n",
    "tmp = []\n",
    "\n",
    "for idx in range (len(estimators_list)):\n",
    "    try:\n",
    "        base_name = str(estimators_list.estimator[idx]).split(\".\")[2]\n",
    "        module_name = str(estimators_list.estimator[idx]).split(\".\")[3]\n",
    "        estimator_name = estimators_list.name[idx]\n",
    "        if (\n",
    "            estimator_name != \"ChannelEnsembleClassifier\" and \n",
    "            estimator_name != \"DummyClassifier\" and\n",
    "            estimator_name != \"ElasticEnsemble\" and\n",
    "            estimator_name != \"IndividualInceptionClassifier\" and\n",
    "            estimator_name != \"IndividualLITEClassifier\" and\n",
    "            estimator_name != \"IndividualInceptionClassifier\" and\n",
    "            estimator_name != \"InceptionTimeClassifier\" and\n",
    "            estimator_name != \"LITETimeClassifier\" and\n",
    "            estimator_name != \"LearningShapeletClassifier\" and \n",
    "            estimator_name != \"MUSE\"\n",
    "        ):\n",
    "            estimator_module = importlib.import_module(f\"aeon.classification.{base_name}.{module_name}\")\n",
    "            estimator_class = getattr(estimator_module, estimator_name)\n",
    "            estimator = estimator_class()\n",
    "            try:\n",
    "                tmp_est = estimator\n",
    "                tmp.append([estimator_name, estimator])\n",
    "            except Exception as e:\n",
    "                print(f\"Error with {estimators_list.name[idx]}\")\n",
    "                print(e)\n",
    "            \n",
    "        elif estimator_name == \"DummyClassifier\":\n",
    "            estimator_module = importlib.import_module(f\"aeon.classification.{base_name}\")\n",
    "            estimator_class = getattr(estimator_module, estimator_name)\n",
    "            estimator = estimator_class()\n",
    "            tmp.append([estimator_name, estimator])\n",
    "    except Exception as e:\n",
    "        print(f\"Error with {estimators_list.name[idx]}\")\n",
    "        print(e)\n",
    "        continue\n",
    "res = np.array(tmp)    \n"
   ]
  },
  {
   "cell_type": "code",
   "execution_count": 9,
   "metadata": {},
   "outputs": [
    {
     "name": "stdout",
     "output_type": "stream",
     "text": [
      "Arsenal\n",
      "Arsenal() \n",
      "\n",
      "CanonicalIntervalForestClassifier\n",
      "CanonicalIntervalForestClassifier() \n",
      "\n",
      "Catch22Classifier\n",
      "Catch22Classifier() \n",
      "\n",
      "DrCIFClassifier\n",
      "DrCIFClassifier() \n",
      "\n",
      "DummyClassifier\n",
      "DummyClassifier() \n",
      "\n",
      "FreshPRINCEClassifier\n",
      "FreshPRINCEClassifier() \n",
      "\n",
      "HIVECOTEV2\n",
      "HIVECOTEV2() \n",
      "\n",
      "HydraClassifier\n",
      "HydraClassifier() \n",
      "\n",
      "IndividualOrdinalTDE\n",
      "IndividualOrdinalTDE() \n",
      "\n",
      "IndividualTDE\n",
      "IndividualTDE() \n",
      "\n",
      "IntervalForestClassifier\n",
      "IntervalForestClassifier() \n",
      "\n",
      "KNeighborsTimeSeriesClassifier\n",
      "KNeighborsTimeSeriesClassifier() \n",
      "\n",
      "MUSE\n",
      "MUSE() \n",
      "\n",
      "MultiRocketHydraClassifier\n",
      "MultiRocketHydraClassifier() \n",
      "\n",
      "OrdinalTDE\n",
      "OrdinalTDE() \n",
      "\n",
      "QUANTClassifier\n",
      "QUANTClassifier() \n",
      "\n",
      "RDSTClassifier\n",
      "RDSTClassifier() \n",
      "\n",
      "REDCOMETS\n",
      "REDCOMETS() \n",
      "\n",
      "RISTClassifier\n",
      "RISTClassifier() \n",
      "\n",
      "RSTSF\n",
      "RSTSF() \n",
      "\n",
      "RandomIntervalClassifier\n",
      "RandomIntervalClassifier() \n",
      "\n",
      "RandomIntervalSpectralEnsembleClassifier\n",
      "RandomIntervalSpectralEnsembleClassifier() \n",
      "\n",
      "RocketClassifier\n",
      "RocketClassifier() \n",
      "\n",
      "ShapeletTransformClassifier\n",
      "ShapeletTransformClassifier() \n",
      "\n",
      "SummaryClassifier\n",
      "SummaryClassifier() \n",
      "\n",
      "SupervisedIntervalClassifier\n",
      "SupervisedIntervalClassifier() \n",
      "\n",
      "SupervisedTimeSeriesForest\n",
      "SupervisedTimeSeriesForest() \n",
      "\n",
      "TSFreshClassifier\n",
      "TSFreshClassifier() \n",
      "\n",
      "TemporalDictionaryEnsemble\n",
      "TemporalDictionaryEnsemble() \n",
      "\n",
      "TimeSeriesForestClassifier\n",
      "TimeSeriesForestClassifier() \n",
      "\n"
     ]
    }
   ],
   "source": [
    "from aeon.classification.convolution_based import Arsenal\n",
    "from aeon.datasets import load_unit_test\n",
    "\n",
    "X_train, y_train = load_unit_test(split=\"train\")\n",
    "\n",
    "for idx in range(len(res)):\n",
    "    print(res[idx][0])\n",
    "    try:\n",
    "        print(res[idx][1].fit(X_train, y_train), '\\n')\n",
    "    except Exception as e:\n",
    "        print(f\"Error with {estimators_list.name[idx]}\")\n",
    "        print(e)\n",
    "        continue \n",
    "        \n"
   ]
  },
  {
   "cell_type": "code",
   "execution_count": null,
   "metadata": {},
   "outputs": [],
   "source": [
    "res[0][1].create_test_instance(parameter_set='default', return_first=True)"
   ]
  },
  {
   "cell_type": "code",
   "execution_count": 4,
   "metadata": {},
   "outputs": [],
   "source": [
    "weights = []\n",
    "for i in range(len(res)):\n",
    "    weights.append(1)"
   ]
  },
  {
   "cell_type": "code",
   "execution_count": 12,
   "metadata": {},
   "outputs": [],
   "source": [
    "# Импорт необходимых библиотек\n",
    "import matplotlib.pyplot as plt\n",
    "import seaborn as sns\n",
    "from aeon.datasets import load_italy_power_demand\n",
    "from aeon.classification.compose import WeightedEnsembleClassifier\n",
    "from sklearn.metrics import accuracy_score, classification_report, confusion_matrix\n",
    "from sklearn.preprocessing import LabelEncoder\n",
    "import numpy as np\n",
    "\n",
    "\n",
    "# Загрузка набора данных\n",
    "X_train, y_train = load_italy_power_demand(split=\"train\")\n",
    "X_test, y_test = load_italy_power_demand(split=\"test\")\n"
   ]
  },
  {
   "cell_type": "code",
   "execution_count": 13,
   "metadata": {},
   "outputs": [
    {
     "data": {
      "text/html": [
       "<style>#sk-container-id-1 {color: black;}#sk-container-id-1 pre{padding: 0;}#sk-container-id-1 div.sk-toggleable {background-color: white;}#sk-container-id-1 label.sk-toggleable__label {cursor: pointer;display: block;width: 100%;margin-bottom: 0;padding: 0.3em;box-sizing: border-box;text-align: center;}#sk-container-id-1 label.sk-toggleable__label-arrow:before {content: \"▸\";float: left;margin-right: 0.25em;color: #696969;}#sk-container-id-1 label.sk-toggleable__label-arrow:hover:before {color: black;}#sk-container-id-1 div.sk-estimator:hover label.sk-toggleable__label-arrow:before {color: black;}#sk-container-id-1 div.sk-toggleable__content {max-height: 0;max-width: 0;overflow: hidden;text-align: left;background-color: #f0f8ff;}#sk-container-id-1 div.sk-toggleable__content pre {margin: 0.2em;color: black;border-radius: 0.25em;background-color: #f0f8ff;}#sk-container-id-1 input.sk-toggleable__control:checked~div.sk-toggleable__content {max-height: 200px;max-width: 100%;overflow: auto;}#sk-container-id-1 input.sk-toggleable__control:checked~label.sk-toggleable__label-arrow:before {content: \"▾\";}#sk-container-id-1 div.sk-estimator input.sk-toggleable__control:checked~label.sk-toggleable__label {background-color: #d4ebff;}#sk-container-id-1 div.sk-label input.sk-toggleable__control:checked~label.sk-toggleable__label {background-color: #d4ebff;}#sk-container-id-1 input.sk-hidden--visually {border: 0;clip: rect(1px 1px 1px 1px);clip: rect(1px, 1px, 1px, 1px);height: 1px;margin: -1px;overflow: hidden;padding: 0;position: absolute;width: 1px;}#sk-container-id-1 div.sk-estimator {font-family: monospace;background-color: #f0f8ff;border: 1px dotted black;border-radius: 0.25em;box-sizing: border-box;margin-bottom: 0.5em;}#sk-container-id-1 div.sk-estimator:hover {background-color: #d4ebff;}#sk-container-id-1 div.sk-parallel-item::after {content: \"\";width: 100%;border-bottom: 1px solid gray;flex-grow: 1;}#sk-container-id-1 div.sk-label:hover label.sk-toggleable__label {background-color: #d4ebff;}#sk-container-id-1 div.sk-serial::before {content: \"\";position: absolute;border-left: 1px solid gray;box-sizing: border-box;top: 0;bottom: 0;left: 50%;z-index: 0;}#sk-container-id-1 div.sk-serial {display: flex;flex-direction: column;align-items: center;background-color: white;padding-right: 0.2em;padding-left: 0.2em;position: relative;}#sk-container-id-1 div.sk-item {position: relative;z-index: 1;}#sk-container-id-1 div.sk-parallel {display: flex;align-items: stretch;justify-content: center;background-color: white;position: relative;}#sk-container-id-1 div.sk-item::before, #sk-container-id-1 div.sk-parallel-item::before {content: \"\";position: absolute;border-left: 1px solid gray;box-sizing: border-box;top: 0;bottom: 0;left: 50%;z-index: -1;}#sk-container-id-1 div.sk-parallel-item {display: flex;flex-direction: column;z-index: 1;position: relative;background-color: white;}#sk-container-id-1 div.sk-parallel-item:first-child::after {align-self: flex-end;width: 50%;}#sk-container-id-1 div.sk-parallel-item:last-child::after {align-self: flex-start;width: 50%;}#sk-container-id-1 div.sk-parallel-item:only-child::after {width: 0;}#sk-container-id-1 div.sk-dashed-wrapped {border: 1px dashed gray;margin: 0 0.4em 0.5em 0.4em;box-sizing: border-box;padding-bottom: 0.4em;background-color: white;}#sk-container-id-1 div.sk-label label {font-family: monospace;font-weight: bold;display: inline-block;line-height: 1.2em;}#sk-container-id-1 div.sk-label-container {text-align: center;}#sk-container-id-1 div.sk-container {/* jupyter's `normalize.less` sets `[hidden] { display: none; }` but bootstrap.min.css set `[hidden] { display: none !important; }` so we also need the `!important` here to be able to override the default hidden behavior on the sphinx rendered scikit-learn.org. See: https://github.com/scikit-learn/scikit-learn/issues/21755 */display: inline-block !important;position: relative;}#sk-container-id-1 div.sk-text-repr-fallback {display: none;}</style><div id=\"sk-container-id-1\" class=\"sk-top-container\"><div class=\"sk-text-repr-fallback\"><pre>WeightedEnsembleClassifier(classifiers=[Arsenal(),\n",
       "                                        CanonicalIntervalForestClassifier(),\n",
       "                                        Catch22Classifier(), DrCIFClassifier(),\n",
       "                                        DummyClassifier(),\n",
       "                                        FreshPRINCEClassifier(), HIVECOTEV2(),\n",
       "                                        HydraClassifier(),\n",
       "                                        IndividualOrdinalTDE(), IndividualTDE(),\n",
       "                                        IntervalForestClassifier(),\n",
       "                                        KNeighborsTimeSeriesClassifier(),\n",
       "                                        MultiRocketHydraClassifier(),\n",
       "                                        OrdinalTDE(), QUANTClassif...\n",
       "                                        RISTClassifier(), RSTSF(),\n",
       "                                        RandomIntervalClassifier(),\n",
       "                                        RandomIntervalSpectralEnsembleClassifier(),\n",
       "                                        RocketClassifier(),\n",
       "                                        ShapeletTransformClassifier(),\n",
       "                                        SummaryClassifier(),\n",
       "                                        SupervisedIntervalClassifier(),\n",
       "                                        SupervisedTimeSeriesForest(),\n",
       "                                        TSFreshClassifier(),\n",
       "                                        TemporalDictionaryEnsemble(),\n",
       "                                        TimeSeriesForestClassifier()],\n",
       "                           weights=[1, 1, 1, 1, 1, 1, 1, 1, 1, 1, 1, 1, 1, 1, 1,\n",
       "                                    1, 1, 1, 1, 1, 1, 1, 1, 1, 1, 1, 1, 1, 1])</pre><b>In a Jupyter environment, please rerun this cell to show the HTML representation or trust the notebook. <br />On GitHub, the HTML representation is unable to render, please try loading this page with nbviewer.org.</b></div><div class=\"sk-container\" hidden><div class=\"sk-item\"><div class=\"sk-estimator sk-toggleable\"><input class=\"sk-toggleable__control sk-hidden--visually\" id=\"sk-estimator-id-1\" type=\"checkbox\" checked><label for=\"sk-estimator-id-1\" class=\"sk-toggleable__label sk-toggleable__label-arrow\">WeightedEnsembleClassifier</label><div class=\"sk-toggleable__content\"><pre>WeightedEnsembleClassifier(classifiers=[Arsenal(),\n",
       "                                        CanonicalIntervalForestClassifier(),\n",
       "                                        Catch22Classifier(), DrCIFClassifier(),\n",
       "                                        DummyClassifier(),\n",
       "                                        FreshPRINCEClassifier(), HIVECOTEV2(),\n",
       "                                        HydraClassifier(),\n",
       "                                        IndividualOrdinalTDE(), IndividualTDE(),\n",
       "                                        IntervalForestClassifier(),\n",
       "                                        KNeighborsTimeSeriesClassifier(),\n",
       "                                        MultiRocketHydraClassifier(),\n",
       "                                        OrdinalTDE(), QUANTClassif...\n",
       "                                        RISTClassifier(), RSTSF(),\n",
       "                                        RandomIntervalClassifier(),\n",
       "                                        RandomIntervalSpectralEnsembleClassifier(),\n",
       "                                        RocketClassifier(),\n",
       "                                        ShapeletTransformClassifier(),\n",
       "                                        SummaryClassifier(),\n",
       "                                        SupervisedIntervalClassifier(),\n",
       "                                        SupervisedTimeSeriesForest(),\n",
       "                                        TSFreshClassifier(),\n",
       "                                        TemporalDictionaryEnsemble(),\n",
       "                                        TimeSeriesForestClassifier()],\n",
       "                           weights=[1, 1, 1, 1, 1, 1, 1, 1, 1, 1, 1, 1, 1, 1, 1,\n",
       "                                    1, 1, 1, 1, 1, 1, 1, 1, 1, 1, 1, 1, 1, 1])</pre></div></div></div></div></div>"
      ],
      "text/plain": [
       "WeightedEnsembleClassifier(classifiers=[Arsenal(),\n",
       "                                        CanonicalIntervalForestClassifier(),\n",
       "                                        Catch22Classifier(), DrCIFClassifier(),\n",
       "                                        DummyClassifier(),\n",
       "                                        FreshPRINCEClassifier(), HIVECOTEV2(),\n",
       "                                        HydraClassifier(),\n",
       "                                        IndividualOrdinalTDE(), IndividualTDE(),\n",
       "                                        IntervalForestClassifier(),\n",
       "                                        KNeighborsTimeSeriesClassifier(),\n",
       "                                        MultiRocketHydraClassifier(),\n",
       "                                        OrdinalTDE(), QUANTClassif...\n",
       "                                        RISTClassifier(), RSTSF(),\n",
       "                                        RandomIntervalClassifier(),\n",
       "                                        RandomIntervalSpectralEnsembleClassifier(),\n",
       "                                        RocketClassifier(),\n",
       "                                        ShapeletTransformClassifier(),\n",
       "                                        SummaryClassifier(),\n",
       "                                        SupervisedIntervalClassifier(),\n",
       "                                        SupervisedTimeSeriesForest(),\n",
       "                                        TSFreshClassifier(),\n",
       "                                        TemporalDictionaryEnsemble(),\n",
       "                                        TimeSeriesForestClassifier()],\n",
       "                           weights=[1, 1, 1, 1, 1, 1, 1, 1, 1, 1, 1, 1, 1, 1, 1,\n",
       "                                    1, 1, 1, 1, 1, 1, 1, 1, 1, 1, 1, 1, 1, 1])"
      ]
     },
     "execution_count": 13,
     "metadata": {},
     "output_type": "execute_result"
    }
   ],
   "source": [
    "\n",
    "# Создание ансамблевого классификатора\n",
    "ensemble_clf = WeightedEnsembleClassifier(classifiers=list(res[:,1]), weights=weights)\n",
    "\n",
    "# Обучение ансамблевого классификатора\n",
    "ensemble_clf.fit(X_train, y_train)\n"
   ]
  },
  {
   "cell_type": "code",
   "execution_count": 26,
   "metadata": {},
   "outputs": [],
   "source": [
    "code_pred = np.unique(y_train)\n",
    "\n",
    "from sklearn.preprocessing import (LabelEncoder)\n",
    "\n",
    "le = LabelEncoder()\n",
    "\n",
    "pes = le.fit(y_train)\n",
    "\n",
    "enc = pes.transform(y_train)\n",
    "#dec = pes.inverse_transform(y_pred)\n",
    "    \n"
   ]
  },
  {
   "cell_type": "code",
   "execution_count": 27,
   "metadata": {},
   "outputs": [],
   "source": [
    "\n",
    "# Прогнозирование на тестовой выборке\n",
    "y_pred = ensemble_clf.predict(X_test)\n"
   ]
  },
  {
   "cell_type": "code",
   "execution_count": 28,
   "metadata": {},
   "outputs": [],
   "source": [
    "y_pred_dec = pes.inverse_transform(y_pred)"
   ]
  },
  {
   "cell_type": "code",
   "execution_count": 20,
   "metadata": {},
   "outputs": [],
   "source": [
    "def decode_pred(idx):\n",
    "    return code_pred[idx]\n",
    "\n",
    "pred = np.array(list(map(decode_pred, y_pred)))\n",
    "y_pred = pred"
   ]
  },
  {
   "cell_type": "code",
   "execution_count": null,
   "metadata": {},
   "outputs": [],
   "source": [
    "\n",
    "pred = []\n",
    "\n",
    "for item in y_pred:\n",
    "    if item == 0:\n",
    "        tmp = '1'\n",
    "    elif item == 1:\n",
    "        tmp = '2'\n",
    "\n",
    "    pred.append(tmp)\n",
    "\n",
    "y_pred = pred\n"
   ]
  },
  {
   "cell_type": "code",
   "execution_count": 31,
   "metadata": {},
   "outputs": [
    {
     "name": "stdout",
     "output_type": "stream",
     "text": [
      "Точность ансамблевого классификатора: 0.97\n",
      "\n",
      "Отчет о классификации:\n",
      "              precision    recall  f1-score   support\n",
      "\n",
      "           1       0.97      0.97      0.97       513\n",
      "           2       0.97      0.97      0.97       516\n",
      "\n",
      "    accuracy                           0.97      1029\n",
      "   macro avg       0.97      0.97      0.97      1029\n",
      "weighted avg       0.97      0.97      0.97      1029\n",
      "\n"
     ]
    },
    {
     "data": {
      "image/png": "[encoded data removed]",
      "text/plain": [
       "<Figure size 800x600 with 2 Axes>"
      ]
     },
     "metadata": {},
     "output_type": "display_data"
    }
   ],
   "source": [
    "# Use y_test_encoded and y_pred_encoded for evaluation\n",
    "accuracy = accuracy_score(y_test, y_pred_dec)\n",
    "print(f\"Точность ансамблевого классификатора: {accuracy:.2f}\")\n",
    "\n",
    "print(\"\\nОтчет о классификации:\")\n",
    "print(classification_report(y_test, y_pred_dec))\n",
    "\n",
    "# Построение матрицы ошибок\n",
    "cm = confusion_matrix(y_test, y_pred_dec)\n",
    "plt.figure(figsize=(8, 6))\n",
    "sns.heatmap(\n",
    "    cm,\n",
    "    annot=True,\n",
    "    fmt=\"d\",\n",
    "    cmap=\"Blues\",\n",
    "    xticklabels=ensemble_clf.classes_,\n",
    "    yticklabels=ensemble_clf.classes_\n",
    ")\n",
    "plt.title(\"Матрица ошибок\")\n",
    "plt.ylabel(\"Истинные метки\")\n",
    "plt.xlabel(\"Предсказанные метки\")\n",
    "plt.show()"
   ]
  }
 ],
 "metadata": {
  "kernelspec": {
   "display_name": "Python 3",
   "language": "python",
   "name": "python3"
  },
  "language_info": {
   "codemirror_mode": {
    "name": "ipython",
    "version": 3
   },
   "file_extension": ".py",
   "mimetype": "text/x-python",
   "name": "python",
   "nbconvert_exporter": "python",
   "pygments_lexer": "ipython3",
   "version": "3.12.0"
  }
 },
 "nbformat": 4,
 "nbformat_minor": 2
}
