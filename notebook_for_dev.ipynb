{
 "cells": [
  {
   "cell_type": "markdown",
   "metadata": {},
   "source": [
    "Данный нотбук  посвящен исследованию и разработке методов машинного обучения для выбора наилучших методов ОМП. Различают несколько способов замеров односторонние и двухсторонние.\n",
    "\n",
    "Были разделены целевые данные на лучшие методы для односторонних методов и двухсторонних методов.\n",
    "Односторонние методы находятяся в : \"Methods for aim\\BestMethodOneSide.csv\"\n",
    "Двухсторонние методы находятся в : \"Methods for aim\\BestMethodTwoSide.csv\"\n",
    "При этом один из данных наборов может находится в папке \"aim methods\". Папка \"aim methods\" это основная папка для хранения лучших методов ОМП для каждого типа замеров, перед началом обучения необходимо проверить наличие данной папки в репозитории и наличие файлов с лучшими методами для какого-либо типа замеров.\n",
    "\n",
    "В папке \"CSV PMU 100fps\" находяся записанные данные из PMU с частотой дискретизации 100 fps, для обучения моделей необходимо извлечь эти данные и подготовить их к обучению, эти данные будут в архиве \"CSV PMU 100fps.zip\".\n",
    "\n",
    "Если будут отсутствовать какие либо данные необходимые для обучения моделей, то необходимо остановить выполнение скрипта и сообщить об этом."
   ]
  },
  {
   "cell_type": "markdown",
   "metadata": {
    "vscode": {
     "languageId": "powershell"
    }
   },
   "source": [
    "## Установка необходимых библиотек\n",
    "\n",
    "pip install aeon\n",
    "pip install pandas\n",
    "pip install seaborn\n",
    "pip install numba\n",
    "pip install concurrent\n",
    "pip install scikit-learn\n",
    "pip inatall matplotlib\n",
    "\n",
    "# Если какие то библиотеки не установились или возникли ошибки, установите их вручную или напиши мне\n",
    "\n"
   ]
  },
  {
   "cell_type": "markdown",
   "metadata": {},
   "source": [
    "Перед обучением необходимо подготовить конфигуратор для модели.\n",
    "Конфигуратор представлен json файлом в файле \"config\\config.json\"\n",
    "В нем меняешь параметры и переходишь к обучению модели."
   ]
  },
  {
   "cell_type": "code",
   "execution_count": null,
   "metadata": {},
   "outputs": [],
   "source": [
    "# Для инициации алгоритма обучения модели\n",
    "from main import LearnProcess as lp\n",
    "\n",
    "# Создание экземпляра класса\n",
    "clf = lp()\n",
    "\n",
    "# Тут должен начаться процесс подготовки данных для обучения модели"
   ]
  },
  {
   "cell_type": "code",
   "execution_count": null,
   "metadata": {},
   "outputs": [],
   "source": [
    "# Для обучения модели\n",
    "clf.fit()"
   ]
  }
 ],
 "metadata": {
  "kernelspec": {
   "display_name": "Python 3",
   "language": "python",
   "name": "python3"
  },
  "language_info": {
   "codemirror_mode": {
    "name": "ipython",
    "version": 3
   },
   "file_extension": ".py",
   "mimetype": "text/x-python",
   "name": "python",
   "nbconvert_exporter": "python",
   "pygments_lexer": "ipython3",
   "version": "3.12.0"
  }
 },
 "nbformat": 4,
 "nbformat_minor": 2
}
