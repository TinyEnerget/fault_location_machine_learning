{
 "cells": [
  {
   "cell_type": "code",
   "execution_count": 1,
   "metadata": {},
   "outputs": [
    {
     "name": "stdout",
     "output_type": "stream",
     "text": [
      "100.00%Я все босс\n"
     ]
    }
   ],
   "source": [
    "from alg_repository.preprocessing import dataPreprocessFromCSV as dpc\n",
    "import os\n",
    "import pandas as pd\n",
    "\n",
    "file_names = os.listdir('Data PMU')\n",
    "\n",
    "# Инициализация переменных для объединения СВИ\n",
    "Phase_C_A_begin = pd.DataFrame()\n",
    "Phase_C_B_begin = pd.DataFrame()\n",
    "Phase_C_C_begin = pd.DataFrame()\n",
    "Phase_V_A_begin = pd.DataFrame()\n",
    "Phase_V_B_begin = pd.DataFrame()\n",
    "Phase_V_C_begin = pd.DataFrame()\n",
    "Phase_AC_A_begin =pd.DataFrame()\n",
    "Phase_AC_B_begin =pd.DataFrame()\n",
    "Phase_AC_C_begin =pd.DataFrame()\n",
    "Phase_VC_A_begin =pd.DataFrame()\n",
    "Phase_VC_B_begin =pd.DataFrame()\n",
    "Phase_VC_C_begin =pd.DataFrame()\n",
    "Phase_C_A_end = pd.DataFrame()\n",
    "Phase_C_B_end = pd.DataFrame()\n",
    "Phase_C_C_end = pd.DataFrame()\n",
    "Phase_V_A_end = pd.DataFrame()\n",
    "Phase_V_B_end = pd.DataFrame()\n",
    "Phase_V_C_end = pd.DataFrame()\n",
    "Phase_AC_A_end =pd.DataFrame()\n",
    "Phase_AC_B_end =pd.DataFrame()\n",
    "Phase_AC_C_end =pd.DataFrame()\n",
    "Phase_VC_A_end =pd.DataFrame()\n",
    "Phase_VC_B_end =pd.DataFrame()\n",
    "Phase_VC_C_end =pd.DataFrame()\n",
    "\n",
    "loaded = 0\n",
    "total = len(file_names)\n",
    "\n",
    "for file_name in file_names:\n",
    "    \n",
    "    # Отслеживание загркзки\n",
    "    loaded += 1\n",
    "    percent = loaded / total * 100\n",
    "    print('\\r%.2f%%' % percent, end='') \n",
    "    # Объявление метоположения и имени файла\n",
    "    file_path = \"Data PMU\\\\\" + file_name\n",
    "    data = dpc(file_path).data_import()\n",
    "    headers = data.columns\n",
    "\n",
    "    # Подгрузка элементов векторов\n",
    "    time = data[headers[0]][1500:].reset_index(drop=True)\n",
    "    Current_A_begin = data[headers[2]][1500:].reset_index(drop=True)\n",
    "    Current_B_begin = data[headers[4]][1500:].reset_index(drop=True)\n",
    "    Current_C_begin = data[headers[6]][1500:].reset_index(drop=True)\n",
    "    Angle_С_A_begin = data[headers[1]][1500:].reset_index(drop=True)\n",
    "    Angle_С_B_begin = data[headers[3]][1500:].reset_index(drop=True)\n",
    "    Angle_С_C_begin = data[headers[5]][1500:].reset_index(drop=True)\n",
    "    Voltage_A_begin = data[headers[11]][1500:].reset_index(drop=True)\n",
    "    Voltage_B_begin = data[headers[13]][1500:].reset_index(drop=True)\n",
    "    Voltage_C_begin = data[headers[15]][1500:].reset_index(drop=True)\n",
    "    Angle_V_A_begin = data[headers[10]][1500:].reset_index(drop=True)\n",
    "    Angle_V_B_begin = data[headers[12]][1500:].reset_index(drop=True)\n",
    "    Angle_V_C_begin = data[headers[14]][1500:].reset_index(drop=True)\n",
    "    Current_A_end = data[headers[17]][1500:].reset_index(drop=True)\n",
    "    Current_B_end = data[headers[19]][1500:].reset_index(drop=True)\n",
    "    Current_C_end = data[headers[21]][1500:].reset_index(drop=True)\n",
    "    Angle_С_A_end = data[headers[16]][1500:].reset_index(drop=True)\n",
    "    Angle_С_B_end = data[headers[18]][1500:].reset_index(drop=True)\n",
    "    Angle_С_C_end = data[headers[20]][1500:].reset_index(drop=True)\n",
    "    Voltage_A_end = data[headers[26]][1500:].reset_index(drop=True)\n",
    "    Voltage_B_end = data[headers[28]][1500:].reset_index(drop=True)\n",
    "    Voltage_C_end = data[headers[30]][1500:].reset_index(drop=True)\n",
    "    Angle_V_A_end = data[headers[25]][1500:].reset_index(drop=True)\n",
    "    Angle_V_B_end = data[headers[27]][1500:].reset_index(drop=True)\n",
    "    Angle_V_C_end = data[headers[29]][1500:].reset_index(drop=True)\n",
    "\n",
    "    del data\n",
    "\n",
    "    # Объединение СВИ\n",
    "    Phase_C_A_begin = pd.concat([Phase_C_A_begin, Current_A_begin], axis=1)\n",
    "    Phase_C_B_begin = pd.concat([Phase_C_B_begin, Current_B_begin], axis=1)\n",
    "    Phase_C_C_begin = pd.concat([Phase_C_C_begin, Current_C_begin], axis=1)\n",
    "    Phase_V_A_begin = pd.concat([Phase_V_A_begin, Voltage_A_begin], axis=1)\n",
    "    Phase_V_B_begin = pd.concat([Phase_V_B_begin, Voltage_B_begin], axis=1)\n",
    "    Phase_V_C_begin = pd.concat([Phase_V_C_begin, Voltage_C_begin], axis=1)\n",
    "    Phase_AC_A_begin = pd.concat([Phase_AC_A_begin, Angle_С_A_begin], axis=1)\n",
    "    Phase_AC_B_begin = pd.concat([Phase_AC_B_begin, Angle_С_B_begin], axis=1)\n",
    "    Phase_AC_C_begin = pd.concat([Phase_AC_C_begin, Angle_С_C_begin], axis=1)\n",
    "    Phase_VC_A_begin = pd.concat([Phase_VC_A_begin, Angle_V_A_begin], axis=1)\n",
    "    Phase_VC_B_begin = pd.concat([Phase_VC_B_begin, Angle_V_B_begin], axis=1)\n",
    "    Phase_VC_C_begin = pd.concat([Phase_VC_C_begin, Angle_V_C_begin], axis=1)\n",
    "    Phase_C_A_end = pd.concat([Phase_C_A_end, Current_A_end], axis=1)\n",
    "    Phase_C_B_end = pd.concat([Phase_C_B_end, Current_B_end], axis=1)\n",
    "    Phase_C_C_end = pd.concat([Phase_C_C_end, Current_C_end], axis=1)\n",
    "    Phase_V_A_end = pd.concat([Phase_V_A_end, Voltage_A_end], axis=1)\n",
    "    Phase_V_B_end = pd.concat([Phase_V_B_end, Voltage_B_end], axis=1)\n",
    "    Phase_V_C_end = pd.concat([Phase_V_C_end, Voltage_C_end], axis=1)\n",
    "    Phase_AC_A_end = pd.concat([Phase_AC_A_end, Angle_С_A_end], axis=1)\n",
    "    Phase_AC_B_end = pd.concat([Phase_AC_B_end, Angle_С_B_end], axis=1)\n",
    "    Phase_AC_C_end = pd.concat([Phase_AC_C_end, Angle_С_C_end], axis=1)\n",
    "    Phase_VC_A_end = pd.concat([Phase_VC_A_end, Angle_V_A_end], axis=1)\n",
    "    Phase_VC_B_end = pd.concat([Phase_VC_B_end, Angle_V_B_end], axis=1)\n",
    "    Phase_VC_C_end = pd.concat([Phase_VC_C_end, Angle_V_C_end], axis=1)\n",
    "\n",
    "print(\"Я все босс\")"
   ]
  },
  {
   "cell_type": "code",
   "execution_count": 4,
   "metadata": {},
   "outputs": [],
   "source": [
    "from alg_repository.preprocessing import dataPreprocessFromCSV as dpc\n",
    "\n",
    "data = dpc('Data PMU/PMU_data_Monte_Carlo_exp1.csv').data_import()\n",
    "headers = data.columns\n",
    "time = data[headers[0]][1500:].reset_index(drop=True)\n",
    "CSV_file_path = \"CSV file rep/\"\n",
    "time.to_csv(f'{CSV_file_path}{'time.csv'}', index=False)"
   ]
  },
  {
   "cell_type": "code",
   "execution_count": 2,
   "metadata": {},
   "outputs": [],
   "source": [
    "CSV_file_path = \"CSV file rep/\"\n",
    "Phase_C_A_begin.to_csv(f'{CSV_file_path}{'Data_Phase_C_A_begin.csv'}', index=False)\n",
    "Phase_C_B_begin.to_csv(f'{CSV_file_path}{'Data_Phase_C_B_begin.csv'}', index=False)\n",
    "Phase_C_C_begin.to_csv(f'{CSV_file_path}{'Data_Phase_C_C_begin.csv'}', index=False)\n",
    "Phase_V_A_begin.to_csv(f'{CSV_file_path}{'Data_Phase_V_A_begin.csv'}', index=False)\n",
    "Phase_V_B_begin.to_csv(f'{CSV_file_path}{'Data_Phase_V_B_begin.csv'}', index=False)\n",
    "Phase_V_C_begin.to_csv(f'{CSV_file_path}{'Data_Phase_V_C_begin.csv'}', index=False)\n",
    "Phase_AC_A_begin.to_csv(f'{CSV_file_path}{'Data_Phase_AC_A_begin.csv'}', index=False) \n",
    "Phase_AC_B_begin.to_csv(f'{CSV_file_path}{'Data_Phase_AC_B_begin.csv'}', index=False) \n",
    "Phase_AC_C_begin.to_csv(f'{CSV_file_path}{'Data_Phase_AC_C_begin.csv'}', index=False)\n",
    "Phase_VC_A_begin.to_csv(f'{CSV_file_path}{'Data_Phase_VC_A_begin.csv'}', index=False)\n",
    "Phase_VC_B_begin.to_csv(f'{CSV_file_path}{'Data_Phase_VC_B_begin.csv'}', index=False)\n",
    "Phase_VC_C_begin.to_csv(f'{CSV_file_path}{'Data_Phase_VC_C_begin.csv'}', index=False)\n",
    "Phase_C_A_end.to_csv(f'{CSV_file_path}{'Data_Phase_C_A_end .csv'}', index=False)\n",
    "Phase_C_B_end.to_csv(f'{CSV_file_path}{'Data_Phase_C_B_end .csv'}', index=False)\n",
    "Phase_C_C_end.to_csv(f'{CSV_file_path}{'Data_Phase_C_C_end .csv'}', index=False)\n",
    "Phase_V_A_end.to_csv(f'{CSV_file_path}{'Data_Phase_V_A_end.csv'}', index=False)\n",
    "Phase_V_B_end.to_csv(f'{CSV_file_path}{'Data_Phase_V_B_end.csv'}', index=False)\n",
    "Phase_V_C_end.to_csv(f'{CSV_file_path}{'Data_Phase_V_C_end.csv'}', index=False)\n",
    "Phase_AC_A_end.to_csv(f'{CSV_file_path}{'Data_Phase_AC_A_end.csv'}', index=False)\n",
    "Phase_AC_B_end.to_csv(f'{CSV_file_path}{'Data_Phase_AC_B_end.csv'}', index=False)\n",
    "Phase_AC_C_end.to_csv(f'{CSV_file_path}{'Data_Phase_AC_C_end.csv'}', index=False)\n",
    "Phase_VC_A_end.to_csv(f'{CSV_file_path}{'Data_Phase_VC_A_end.csv'}', index=False)\n",
    "Phase_VC_B_end.to_csv(f'{CSV_file_path}{'Data_Phase_VC_B_end.csv'}', index=False)\n",
    "Phase_VC_C_end.to_csv(f'{CSV_file_path}{'Data_Phase_VC_C_end.csv'}', index=False)"
   ]
  },
  {
   "cell_type": "code",
   "execution_count": 8,
   "metadata": {},
   "outputs": [
    {
     "data": {
      "text/plain": [
       "[<matplotlib.lines.Line2D at 0x2255bd90a40>]"
      ]
     },
     "execution_count": 8,
     "metadata": {},
     "output_type": "execute_result"
    },
    {
     "data": {
      "image/png": "[encoded data removed]",
      "text/plain": [
       "<Figure size 640x480 with 1 Axes>"
      ]
     },
     "metadata": {},
     "output_type": "display_data"
    }
   ],
   "source": [
    "import matplotlib.pyplot as plt\n",
    "\n",
    "plt.plot(time, Current_A_begin)\n",
    "\n"
   ]
  },
  {
   "cell_type": "code",
   "execution_count": 7,
   "metadata": {},
   "outputs": [
    {
     "name": "stdout",
     "output_type": "stream",
     "text": [
      "test_27_06_2024_14_08.json\n"
     ]
    }
   ],
   "source": [
    "import datetime\n",
    "exp_name = 'test'\n",
    "timenow = datetime.datetime.now().strftime(\"%d_%m_%Y_%H_%M\")\n",
    "filepath = 'Model\\\\'\n",
    "filename = exp_name + '_' + timenow + '.json'\n",
    "print(filename)"
   ]
  }
 ],
 "metadata": {
  "kernelspec": {
   "display_name": "Python 3",
   "language": "python",
   "name": "python3"
  },
  "language_info": {
   "codemirror_mode": {
    "name": "ipython",
    "version": 3
   },
   "file_extension": ".py",
   "mimetype": "text/x-python",
   "name": "python",
   "nbconvert_exporter": "python",
   "pygments_lexer": "ipython3",
   "version": "3.12.0"
  }
 },
 "nbformat": 4,
 "nbformat_minor": 2
}
